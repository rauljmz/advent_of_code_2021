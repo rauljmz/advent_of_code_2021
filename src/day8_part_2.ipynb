{
 "cells": [
  {
   "cell_type": "code",
   "execution_count": 428,
   "metadata": {},
   "outputs": [],
   "source": [
    "import day8\n",
    "import numpy as np"
   ]
  },
  {
   "cell_type": "code",
   "execution_count": 429,
   "metadata": {},
   "outputs": [],
   "source": [
    "def encode(st):\n",
    "    return np.unpackbits(np.array([2**(ord(letter)-97) for letter in st]).sum().astype('uint8'))[1:]\n",
    "\n",
    "\n",
    "def load_data(path):\n",
    "    with open(path) as file:\n",
    "        tokens = file.read().replace(' | ', ' ').replace('\\n', ' ').split(' ')\n",
    "    tokens = list(map(encode, tokens))\n",
    "    array = np.array(tokens)\n",
    "    return array.reshape(int(array.size/14/7), 14, 7)\n"
   ]
  },
  {
   "cell_type": "code",
   "execution_count": 445,
   "metadata": {},
   "outputs": [],
   "source": [
    "data = load_data('../data/day8/input.txt')\n",
    "no_readings = data.shape[0]\n",
    "digits = data[:,:10]"
   ]
  },
  {
   "cell_type": "code",
   "execution_count": 447,
   "metadata": {},
   "outputs": [],
   "source": [
    "ones = digits[digits.sum(axis=2) ==2]\n",
    "sevens = digits[digits.sum(axis=2) ==3]\n",
    "fours = digits[digits.sum(axis=2) ==4]\n",
    "eights = digits[digits.sum(axis=2) ==7]"
   ]
  },
  {
   "cell_type": "code",
   "execution_count": 448,
   "metadata": {},
   "outputs": [],
   "source": [
    "can_be_2_5_3 = digits[digits.sum(axis=2) ==5].reshape(no_readings,3,7)\n",
    "mask_3 = (can_be_2_5_3 * ones[:,np.newaxis,:]).sum(axis=2) ==2\n",
    "threes = can_be_2_5_3[mask_3]"
   ]
  },
  {
   "cell_type": "code",
   "execution_count": 449,
   "metadata": {},
   "outputs": [],
   "source": [
    "can_be_0_6_9 = digits[digits.sum(axis=2) ==6].reshape(no_readings,3,7)\n",
    "mask_9 = (can_be_0_6_9 & threes[:,np.newaxis,:] & fours[:,np.newaxis,:]).sum(axis=2) == 3\n",
    "nines = can_be_0_6_9[mask_9]"
   ]
  },
  {
   "cell_type": "code",
   "execution_count": 450,
   "metadata": {},
   "outputs": [],
   "source": [
    "can_be_0_6 = can_be_0_6_9[~mask_9].reshape(no_readings,2,7)\n",
    "mask_zeros = (can_be_0_6 & ones[:,np.newaxis,:]).sum(axis=2) == 2\n",
    "zeroes = can_be_0_6[mask_zeros]\n",
    "sixes = can_be_0_6[~mask_zeros]"
   ]
  },
  {
   "cell_type": "code",
   "execution_count": 451,
   "metadata": {},
   "outputs": [],
   "source": [
    "mask_5 = (can_be_2_5_3 & sixes[:,np.newaxis,:]).sum(axis=2) ==5\n",
    "fives = can_be_2_5_3[mask_5]"
   ]
  },
  {
   "cell_type": "code",
   "execution_count": 452,
   "metadata": {},
   "outputs": [],
   "source": [
    "mask_2 = ~mask_5 & ~mask_3\n",
    "twos = can_be_2_5_3[mask_2]"
   ]
  },
  {
   "cell_type": "code",
   "execution_count": 453,
   "metadata": {},
   "outputs": [],
   "source": [
    "ordered_digits = np.concatenate([zeroes, ones,twos, threes, fours, fives, sixes, sevens, eights, nines], axis=1) \\\n",
    "    .reshape(no_readings,10,7)\n",
    "\n",
    "packed_digits = np.packbits(ordered_digits, axis=2)"
   ]
  },
  {
   "cell_type": "code",
   "execution_count": 454,
   "metadata": {},
   "outputs": [],
   "source": [
    "readings = data[:,10:]\n",
    "packed_readings = np.packbits(readings,axis=2)"
   ]
  },
  {
   "cell_type": "code",
   "execution_count": 455,
   "metadata": {},
   "outputs": [],
   "source": [
    "correct_readings = ((packed_digits).reshape(no_readings,10,1) - packed_readings.reshape(no_readings,1,4))"
   ]
  },
  {
   "cell_type": "code",
   "execution_count": 456,
   "metadata": {},
   "outputs": [],
   "source": [
    "correct_readings[correct_readings != 0] = -1"
   ]
  },
  {
   "cell_type": "code",
   "execution_count": 457,
   "metadata": {},
   "outputs": [
    {
     "data": {
      "text/plain": [
       "989396"
      ]
     },
     "execution_count": 457,
     "metadata": {},
     "output_type": "execute_result"
    }
   ],
   "source": [
    "t = np.where((correct_readings + 1))\n",
    "x = t[1].reshape(no_readings,4)\n",
    "y = t[2].reshape(no_readings,4)\n",
    "\n",
    "end_result = x[:,np.argsort(y)].diagonal().T\n",
    "end_result = (end_result * (10** np.arange(3,-1,-1))).sum(axis=1)\n",
    "end_result.sum()"
   ]
  }
 ],
 "metadata": {
  "interpreter": {
   "hash": "994015aa37e188b082256ac97b6c35a2c818d0178308bf3635444b4e5b6805ee"
  },
  "kernelspec": {
   "display_name": "Python 3.10.0 64-bit",
   "language": "python",
   "name": "python3"
  },
  "language_info": {
   "codemirror_mode": {
    "name": "ipython",
    "version": 3
   },
   "file_extension": ".py",
   "mimetype": "text/x-python",
   "name": "python",
   "nbconvert_exporter": "python",
   "pygments_lexer": "ipython3",
   "version": "3.10.0"
  },
  "orig_nbformat": 4
 },
 "nbformat": 4,
 "nbformat_minor": 2
}
