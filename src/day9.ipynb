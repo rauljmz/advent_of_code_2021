{
 "cells": [
  {
   "cell_type": "code",
   "execution_count": 45,
   "metadata": {},
   "outputs": [],
   "source": [
    "import numpy as np\n",
    "file_path = \"../data/day9/input.txt\""
   ]
  },
  {
   "cell_type": "code",
   "execution_count": 46,
   "metadata": {},
   "outputs": [],
   "source": [
    "with open(file_path) as file:\n",
    "    size = len(file.readline().strip())\n",
    "a = np.genfromtxt(file_path, delimiter=np.ones(size, dtype='int8'),dtype='int8')"
   ]
  },
  {
   "cell_type": "code",
   "execution_count": 47,
   "metadata": {},
   "outputs": [],
   "source": [
    "mask_right = a[:,:-1] < a[:,1:] \n",
    "mask_down = a[:-1] < a[1:]\n",
    "\n",
    "mask_left = a[:,1:] < a[:,:-1]\n",
    "mask_up = a[1:] < a[:-1]\n"
   ]
  },
  {
   "cell_type": "code",
   "execution_count": 48,
   "metadata": {},
   "outputs": [],
   "source": [
    "pad = np.ones(a.shape[0]).astype(bool)[:,np.newaxis]\n",
    "mask_right = np.hstack((mask_right, pad))\n",
    "mask_left = np.hstack((pad,mask_left))\n",
    "\n",
    "pad = np.ones(a.shape[1]).astype(bool)\n",
    "mask_up = np.vstack((pad, mask_up))\n",
    "mask_down = np.vstack((mask_down, pad))"
   ]
  },
  {
   "cell_type": "code",
   "execution_count": 49,
   "metadata": {},
   "outputs": [
    {
     "data": {
      "text/plain": [
       "15"
      ]
     },
     "execution_count": 49,
     "metadata": {},
     "output_type": "execute_result"
    }
   ],
   "source": [
    "(a[mask_left & mask_right & mask_down & mask_up] + 1).sum()"
   ]
  }
 ],
 "metadata": {
  "interpreter": {
   "hash": "994015aa37e188b082256ac97b6c35a2c818d0178308bf3635444b4e5b6805ee"
  },
  "kernelspec": {
   "display_name": "Python 3.10.0 64-bit",
   "language": "python",
   "name": "python3"
  },
  "language_info": {
   "codemirror_mode": {
    "name": "ipython",
    "version": 3
   },
   "file_extension": ".py",
   "mimetype": "text/x-python",
   "name": "python",
   "nbconvert_exporter": "python",
   "pygments_lexer": "ipython3",
   "version": "3.10.0"
  },
  "orig_nbformat": 4
 },
 "nbformat": 4,
 "nbformat_minor": 2
}
