{
 "cells": [
  {
   "cell_type": "code",
   "execution_count": 70,
   "metadata": {},
   "outputs": [],
   "source": [
    "import numpy as np\n",
    "\n",
    "test_file_path = \"../data/day15/test.txt\"\n",
    "file_path = \"../data/day15/input.txt\"\n",
    "\n",
    "def load_data(file_path):\n",
    "    with open(file_path) as file:\n",
    "        size = len(file.readline().strip())\n",
    "    return np.genfromtxt(file_path, delimiter=np.ones(size, dtype='int8'), dtype='int8')"
   ]
  },
  {
   "cell_type": "code",
   "execution_count": 105,
   "metadata": {},
   "outputs": [],
   "source": [
    "def neighbours(array, position):\n",
    "    index_inc = np.array([[0,1],[1,0],[-1,0],[0,-1]])\n",
    "    positions = position + index_inc\n",
    "    positions = positions[((positions >= (0,0)) & (positions < array.shape)).all(axis=1)]\n",
    "    return tuple(map(tuple, positions))"
   ]
  },
  {
   "cell_type": "code",
   "execution_count": 73,
   "metadata": {},
   "outputs": [],
   "source": [
    "class PriorityNodeList:\n",
    "  def __init__(self, shape):\n",
    "    self.unknown = {(x, y) : np.iinfo(np.int32).max\n",
    "                 for x in range(shape[0]) for y in range(shape[1])}\n",
    "    self.known = {}\n",
    "\n",
    "  def __setitem__(self, node, value):\n",
    "    self.unknown.pop(node)\n",
    "    self.known[node] = value\n",
    "\n",
    "  def __contains__(self, node):\n",
    "    return node in self.unknown or node in self.known\n",
    "\n",
    "  def __getitem__(self, node):\n",
    "    return self.known[node] if node in self.known else np.iinfo(np.int32).max\n",
    "\n",
    "  def __len__(self):\n",
    "    return len(self.known) + len(self.unknown)\n",
    "\n",
    "  def pop(self):\n",
    "    min_value = np.iinfo(np.int32).max\n",
    "    min_node = (0,0)\n",
    "    for position, value in self.known.items():\n",
    "      if value < min_value:\n",
    "        min_node = position\n",
    "        min_value = value\n",
    "    return min_node, self.known.pop(min_node)\n"
   ]
  },
  {
   "cell_type": "code",
   "execution_count": 74,
   "metadata": {},
   "outputs": [
    {
     "data": {
      "text/plain": [
       "698"
      ]
     },
     "execution_count": 74,
     "metadata": {},
     "output_type": "execute_result"
    }
   ],
   "source": [
    "def shortest_path(start, end, weights):\n",
    "    unvisited = PriorityNodeList(weights.shape)\n",
    "\n",
    "    distances = {(x, y): np.iinfo(np.int32).max\n",
    "                 for x in range(weights.shape[0]) for y in range(weights.shape[1])}\n",
    "    unvisited[start] = 0\n",
    "    current_position, current_distance = unvisited.pop()\n",
    "    while current_position != end and len(unvisited) > 0:\n",
    "        distances[current_position] = current_distance\n",
    "        for position in neighbours(weights, current_position):\n",
    "            if position in unvisited:\n",
    "                new_distance = weights[position] + current_distance\n",
    "                old_distance = unvisited[position]\n",
    "                if new_distance < old_distance:\n",
    "                    unvisited[position] = new_distance\n",
    "        current_position, current_distance = unvisited.pop()\n",
    "    if current_position == end:\n",
    "        return current_distance\n",
    "    else:\n",
    "        return None\n",
    "\n",
    "\n",
    "weights = load_data(file_path)\n",
    "shortest_path((0, 0), (99, 99), weights)\n"
   ]
  },
  {
   "cell_type": "markdown",
   "metadata": {},
   "source": [
    "Part 2"
   ]
  },
  {
   "cell_type": "code",
   "execution_count": 97,
   "metadata": {},
   "outputs": [],
   "source": [
    "def expand(array):\n",
    "  expanded = np.vstack([array + i for i in range(5)])\n",
    "  expanded = np.hstack([expanded + i for i in range(5)])\n",
    "  mask_over_9 = expanded > 9\n",
    "  expanded[mask_over_9] %= 10\n",
    "  expanded[mask_over_9] += 1\n",
    "  return expanded"
   ]
  },
  {
   "cell_type": "code",
   "execution_count": 103,
   "metadata": {},
   "outputs": [],
   "source": [
    "expanded_weights = expand(load_data(test_file_path))\n",
    "assert shortest_path((0,0), tuple(np.array(expanded_weights.shape) -1), expanded_weights) == 315"
   ]
  },
  {
   "cell_type": "code",
   "execution_count": 106,
   "metadata": {},
   "outputs": [
    {
     "data": {
      "text/plain": [
       "3022"
      ]
     },
     "execution_count": 106,
     "metadata": {},
     "output_type": "execute_result"
    }
   ],
   "source": [
    "expanded_weights = expand(load_data(file_path))\n",
    "\n",
    "shortest_path((0,0), tuple(np.array(expanded_weights.shape) -1), expanded_weights)"
   ]
  }
 ],
 "metadata": {
  "interpreter": {
   "hash": "949777d72b0d2535278d3dc13498b2535136f6dfe0678499012e853ee9abcab1"
  },
  "kernelspec": {
   "display_name": "Python 3.10.0 64-bit",
   "language": "python",
   "name": "python3"
  },
  "language_info": {
   "codemirror_mode": {
    "name": "ipython",
    "version": 3
   },
   "file_extension": ".py",
   "mimetype": "text/x-python",
   "name": "python",
   "nbconvert_exporter": "python",
   "pygments_lexer": "ipython3",
   "version": "3.10.0"
  },
  "orig_nbformat": 4
 },
 "nbformat": 4,
 "nbformat_minor": 2
}
