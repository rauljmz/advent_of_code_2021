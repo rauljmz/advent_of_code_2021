{
 "cells": [
  {
   "cell_type": "code",
   "execution_count": 31,
   "metadata": {},
   "outputs": [],
   "source": [
    "import numpy as np\n",
    "\n",
    "test_file_path = \"../data/day15/test.txt\"\n",
    "file_path = \"../data/day15/input.txt\"\n",
    "\n",
    "def load_data(file_path):\n",
    "    with open(file_path) as file:\n",
    "        size = len(file.readline().strip())\n",
    "    return np.genfromtxt(file_path, delimiter=np.ones(size, dtype='int8'), dtype='int8')"
   ]
  },
  {
   "cell_type": "code",
   "execution_count": 13,
   "metadata": {},
   "outputs": [],
   "source": [
    "def shortest_unvisited(input_dictionary):\n",
    "  min_distance = np.iinfo(np.int32).max\n",
    "  min_position = (0,0)\n",
    "  for position, distance in input_dictionary.items():\n",
    "    if distance < min_distance:\n",
    "      min_position = position\n",
    "      min_distance = distance\n",
    "  return (min_position)"
   ]
  },
  {
   "cell_type": "code",
   "execution_count": 21,
   "metadata": {},
   "outputs": [],
   "source": [
    "def neighbours(array, position):\n",
    "    index_inc = np.array([[0,1],[0,-1],[1,0],[-1,0]])\n",
    "    positions = position + index_inc\n",
    "    positions = positions[((positions >= (0,0)) & (positions < array.shape)).all(axis=1)]\n",
    "    return tuple(map(tuple, positions))"
   ]
  },
  {
   "cell_type": "code",
   "execution_count": 52,
   "metadata": {},
   "outputs": [
    {
     "data": {
      "text/plain": [
       "698"
      ]
     },
     "execution_count": 52,
     "metadata": {},
     "output_type": "execute_result"
    }
   ],
   "source": [
    "def shortest_path(start, end, weights):\n",
    "  unvisited = {(x, y) : np.iinfo(np.int32).max\n",
    "                 for x in range(weights.shape[0]) for y in range(weights.shape[1])}\n",
    "\n",
    "  distances = {(x, y) : np.iinfo(np.int32).max\n",
    "                 for x in range(weights.shape[0]) for y in range(weights.shape[1])}\n",
    "  current_position = start\n",
    "  unvisited[start] = 0\n",
    "  while current_position != end and len(unvisited) > 0:\n",
    "    current_distance = unvisited[current_position]\n",
    "    distances[current_position] = current_distance\n",
    "    del unvisited[current_position]\n",
    "    for position in neighbours(weights, current_position):\n",
    "      if position in unvisited:\n",
    "        new_distance = weights[position] + current_distance\n",
    "        old_distance = unvisited[position]\n",
    "        if new_distance < old_distance:\n",
    "          unvisited[position] = new_distance\n",
    "    current_position = shortest_unvisited(unvisited)\n",
    "  if current_position == end:\n",
    "    return unvisited[end]\n",
    "  else:\n",
    "    return None\n",
    "\n",
    "weights = load_data(file_path)\n",
    "shortest_path((0,0),(99,99), weights)"
   ]
  },
  {
   "cell_type": "markdown",
   "metadata": {},
   "source": []
  }
 ],
 "metadata": {
  "interpreter": {
   "hash": "949777d72b0d2535278d3dc13498b2535136f6dfe0678499012e853ee9abcab1"
  },
  "kernelspec": {
   "display_name": "Python 3.10.0 64-bit",
   "language": "python",
   "name": "python3"
  },
  "language_info": {
   "codemirror_mode": {
    "name": "ipython",
    "version": 3
   },
   "file_extension": ".py",
   "mimetype": "text/x-python",
   "name": "python",
   "nbconvert_exporter": "python",
   "pygments_lexer": "ipython3",
   "version": "3.10.0"
  },
  "orig_nbformat": 4
 },
 "nbformat": 4,
 "nbformat_minor": 2
}
