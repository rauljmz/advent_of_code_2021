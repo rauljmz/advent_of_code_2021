{
 "cells": [
  {
   "cell_type": "code",
   "execution_count": 2,
   "metadata": {},
   "outputs": [],
   "source": [
    "import numpy as np"
   ]
  },
  {
   "cell_type": "code",
   "execution_count": 32,
   "metadata": {},
   "outputs": [],
   "source": [
    "file_path = \"../data/day19/test.txt\"\n",
    "with open(file_path) as file:\n",
    "    scanners = []\n",
    "    scanner = []\n",
    "    for line in file:\n",
    "        if line.startswith(\"---\"):\n",
    "            if len(scanner) > 0:\n",
    "                scanners.append(scanner)\n",
    "            scanner = []\n",
    "        elif len(line) > 1:\n",
    "            scanner.append(line.strip().split(\",\"))\n",
    "    if len(scanner) > 0:\n",
    "        scanners.append(scanner)\n",
    "\n",
    "max_beacons = max([len(scanners[i]) for i in range(len(scanners))])\n",
    "for i in range(len(scanners)):\n",
    "    scanners[i] = np.pad(np.array(scanners[i], dtype=\"int\"),((0,max_beacons- len(scanners[i])), (0,0)), mode=\"minimum\")"
   ]
  },
  {
   "cell_type": "code",
   "execution_count": 11,
   "metadata": {},
   "outputs": [],
   "source": [
    "s0 = np.array(\n",
    "    (\n",
    "(404,-588,-901),\n",
    "(528,-643,409),\n",
    "(-838,591,734),\n",
    "(390,-675,-793),\n",
    "(-537,-823,-458),\n",
    "(-485,-357,347),\n",
    "(-345,-311,381),\n",
    "(-661,-816,-575),\n",
    "(-876,649,763),\n",
    "(-618,-824,-621),\n",
    "(553,345,-567),\n",
    "(474,580,667),\n",
    "(-447,-329,318),\n",
    "(-584,868,-557),\n",
    "(544,-627,-890),\n",
    "(564,392,-477),\n",
    "(455,729,728),\n",
    "(-892,524,684),\n",
    "(-689,845,-530),\n",
    "(423,-701,434),\n",
    "(7,-33,-71),\n",
    "(630,319,-379),\n",
    "(443,580,662),\n",
    "(-789,900,-551),\n",
    "(459,-707,401),\n",
    "    )\n",
    ")"
   ]
  },
  {
   "cell_type": "code",
   "execution_count": 12,
   "metadata": {},
   "outputs": [],
   "source": [
    "s1 = np.array((\n",
    "(686,422,578),\n",
    "(605,423,415),\n",
    "(515,917,-361),\n",
    "(-336,658,858),\n",
    "(95,138,22),\n",
    "(-476,619,847),\n",
    "(-340,-569,-846),\n",
    "(567,-361,727),\n",
    "(-460,603,-452),\n",
    "(669,-402,600),\n",
    "(729,430,532),\n",
    "(-500,-761,534),\n",
    "(-322,571,750),\n",
    "(-466,-666,-811),\n",
    "(-429,-592,574),\n",
    "(-355,545,-477),\n",
    "(703,-491,-529),\n",
    "(-328,-685,520),\n",
    "(413,935,-424),\n",
    "(-391,539,-444),\n",
    "(586,-435,557),\n",
    "(-364,-763,-893),\n",
    "(807,-499,-711),\n",
    "(755,-354,-619),\n",
    "(553,889,-390),\n",
    "))"
   ]
  },
  {
   "cell_type": "code",
   "execution_count": 33,
   "metadata": {},
   "outputs": [],
   "source": [
    "def common_beacons(scanner_0, scanner_1):\n",
    "    for i, j in [ (i, j) for i in range(scanner_0.shape[0]) for j in range(scanner_1.shape[0])]:\n",
    "        t = ((scanner_0 - scanner_0[i]) ** 2).sum(axis=1) - ((scanner_1 - scanner_1[j]) ** 2).sum(axis=1)\n",
    "        if (i != j and np.count_nonzero(t) < len(t)) or (i == j and np.count_nonzero(t) < (len(t)-1)):\n",
    "            yield (i,j,np.where(t == 0)[0][0])\n"
   ]
  },
  {
   "cell_type": "code",
   "execution_count": 50,
   "metadata": {},
   "outputs": [],
   "source": [
    "i = 0\n",
    "j = 1\n",
    "ar_pairs = np.array([ a for a in common_beacons(scanners[i],scanners[j])])"
   ]
  },
  {
   "cell_type": "code",
   "execution_count": 55,
   "metadata": {},
   "outputs": [
    {
     "name": "stdout",
     "output_type": "stream",
     "text": [
      "[array([ 404, -588, -901]), array([ 390, -675, -793]), array([-322,  571,  750]), array([-336,  658,  858])]\n",
      "[array([ 390, -675, -793]), array([-447, -329,  318]), array([ 515,  917, -361]), array([-322,  571,  750])]\n",
      "[array([-537, -823, -458]), array([ 528, -643,  409]), array([-460,  603, -452]), array([605, 423, 415])]\n",
      "[array([-485, -357,  347]), array([ 459, -707,  401]), array([-391,  539, -444]), array([ 553,  889, -390])]\n",
      "[array([-618, -824, -621]), array([ 404, -588, -901]), array([-336,  658,  858]), array([686, 422, 578])]\n",
      "[array([ 544, -627, -890]), array([-485, -357,  347]), array([ 553,  889, -390]), array([-476,  619,  847])]\n",
      "[array([ 459, -707,  401]), array([ 423, -701,  434]), array([-355,  545, -477]), array([-391,  539, -444])]\n"
     ]
    }
   ],
   "source": [
    "if ar_pairs.shape[0] >= 5:\n",
    "    for pair in ar_pairs:\n",
    "        b = [scanners[i][pair[0]],scanners[i][pair[2]], scanners[j][pair[1]], scanners[j][pair[2]]]\n",
    "        # print( b[1]-b[0],b[3]-b[2])\n",
    "        print(b)\n",
    "        # x -> z, y -> -x, z -> y \n",
    "        # print ((b[2]-b[0]))\n",
    "        # print( (b[2][[2,0,1]] *(1,-1,1)) - b[0] )\n"
   ]
  }
 ],
 "metadata": {
  "interpreter": {
   "hash": "994015aa37e188b082256ac97b6c35a2c818d0178308bf3635444b4e5b6805ee"
  },
  "kernelspec": {
   "display_name": "Python 3.10.0 64-bit",
   "language": "python",
   "name": "python3"
  },
  "language_info": {
   "codemirror_mode": {
    "name": "ipython",
    "version": 3
   },
   "file_extension": ".py",
   "mimetype": "text/x-python",
   "name": "python",
   "nbconvert_exporter": "python",
   "pygments_lexer": "ipython3",
   "version": "3.10.0"
  },
  "orig_nbformat": 4
 },
 "nbformat": 4,
 "nbformat_minor": 2
}
