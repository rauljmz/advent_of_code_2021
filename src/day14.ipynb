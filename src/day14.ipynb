{
 "cells": [
  {
   "cell_type": "code",
   "execution_count": 1,
   "metadata": {},
   "outputs": [],
   "source": [
    "import numpy as np\n",
    "\n",
    "test_file_path = \"../data/day14/test.txt\"\n",
    "input_file_path = \"../data/day14/input.txt\"\n",
    "\n",
    "\n",
    "def read_data(path):\n",
    "  recipe = {}\n",
    "  with open(path) as file:\n",
    "    for line in file:\n",
    "      line = line.strip()\n",
    "      if line:\n",
    "        if \"->\" in line:\n",
    "          input, output = line.split(\" -> \")\n",
    "          recipe[input] = output\n",
    "        else:\n",
    "          template = line\n",
    "  return template, recipe\n"
   ]
  },
  {
   "cell_type": "code",
   "execution_count": 2,
   "metadata": {},
   "outputs": [],
   "source": [
    "template, recipe = read_data(test_file_path)"
   ]
  },
  {
   "cell_type": "code",
   "execution_count": 3,
   "metadata": {},
   "outputs": [],
   "source": [
    "def transform(input, dict, count = 1):\n",
    "  output = []\n",
    "  for combination in zip(input[:-1],input[1:]):\n",
    "    new_element = dict.get(str.join(\"\", combination))\n",
    "    output.append(str.join(\"\",[combination[0], new_element]))\n",
    "  output = str.join(\"\",[*output, input[-1]])\n",
    "  if count == 1:\n",
    "    return output\n",
    "  return transform(output, dict, count -1)"
   ]
  },
  {
   "cell_type": "code",
   "execution_count": 4,
   "metadata": {},
   "outputs": [
    {
     "name": "stdout",
     "output_type": "stream",
     "text": [
      "✔ 1 NCNBCHB\n",
      "✔ 2 NBCCNBBBCBHCB\n",
      "✔ 3 NBBBCNCCNBBNBNBBCHBHHBCHB\n",
      "✔ 4 NBBNBNBBCCNBCNCCNBBNBBNBBBNBBNBBCBHCBHHNHCBBCBHCB\n"
     ]
    }
   ],
   "source": [
    "tests = [\n",
    "    \"NCNBCHB\",\n",
    "    \"NBCCNBBBCBHCB\",\n",
    "    \"NBBBCNCCNBBNBNBBCHBHHBCHB\",\n",
    "    \"NBBNBNBBCCNBCNCCNBBNBBNBBBNBBNBBCBHCBHHNHCBBCBHCB\",\n",
    "]\n",
    "for i, test in enumerate(tests, start=1):\n",
    "    output = transform(template, recipe, i)\n",
    "    check = u'\\u2714' if output == test else u'\\u2716'\n",
    "    print(check, i, output)\n"
   ]
  },
  {
   "cell_type": "code",
   "execution_count": 5,
   "metadata": {},
   "outputs": [],
   "source": [
    "step10 = transform(template, recipe, 10)"
   ]
  },
  {
   "cell_type": "code",
   "execution_count": 6,
   "metadata": {},
   "outputs": [],
   "source": [
    "def max_minus_min_freq(input):\n",
    "  freq = {i : input.count(i) for i in set(input)}\n",
    "  char_freqs = np.array(list(freq.items()))[:,1].astype(np.int64)\n",
    "  return char_freqs.max() - char_freqs.min()"
   ]
  },
  {
   "cell_type": "code",
   "execution_count": 7,
   "metadata": {},
   "outputs": [],
   "source": [
    "assert max_minus_min_freq(step10) == 1588"
   ]
  },
  {
   "cell_type": "markdown",
   "metadata": {},
   "source": [
    "Using the input"
   ]
  },
  {
   "cell_type": "code",
   "execution_count": 8,
   "metadata": {},
   "outputs": [
    {
     "data": {
      "text/plain": [
       "3095"
      ]
     },
     "execution_count": 8,
     "metadata": {},
     "output_type": "execute_result"
    }
   ],
   "source": [
    "template, recipe = read_data(input_file_path)\n",
    "\n",
    "max_minus_min_freq(transform(template, recipe, 10))"
   ]
  },
  {
   "cell_type": "markdown",
   "metadata": {},
   "source": [
    "---------"
   ]
  },
  {
   "cell_type": "markdown",
   "metadata": {},
   "source": [
    "The above method does not scale. As the problem asks for counts but not for the actual string, let's change the algorithm to only count the number of ocurrences of each pair of letters."
   ]
  },
  {
   "cell_type": "code",
   "execution_count": 9,
   "metadata": {},
   "outputs": [],
   "source": [
    "def to_dict (template):\n",
    "  output = {}\n",
    "  for i, _ in enumerate(template):\n",
    "    token = template[i:i+2]\n",
    "    output[token] = output.get(token,0) + 1\n",
    "  return output"
   ]
  },
  {
   "cell_type": "code",
   "execution_count": 10,
   "metadata": {},
   "outputs": [
    {
     "name": "stdout",
     "output_type": "stream",
     "text": [
      "3152788426516 difference between common and least common\n"
     ]
    }
   ],
   "source": [
    "rules = {key: [key[0] + value, value + key[1]]\n",
    "         for key, value in recipe.items()}\n",
    "input = to_dict(template)\n",
    "\n",
    "iterations = 40\n",
    "\n",
    "def t(tokens, rules):\n",
    "    output = {}\n",
    "    for token, count in tokens.items():\n",
    "        if token in rules:\n",
    "            for new_token in rules[token]:\n",
    "                output[new_token] = count + output.get(new_token, 0)\n",
    "        else:\n",
    "            output[token] = count + output.get(token, 0)\n",
    "    return output\n",
    "\n",
    "\n",
    "transformed_input = input\n",
    "for _ in range(iterations):\n",
    "    transformed_input = t(transformed_input, rules)\n",
    "\n",
    "letter_counters = {}\n",
    "for key, count in transformed_input.items():\n",
    "    letter_counters[key[0]] = letter_counters.get(key[0], 0) + count\n",
    "\n",
    "ar_count = np.array(list(letter_counters.values())).astype(np.int64)\n",
    "print(f\"{ar_count.max() - ar_count.min()} difference between common and least common\")\n"
   ]
  }
 ],
 "metadata": {
  "interpreter": {
   "hash": "949777d72b0d2535278d3dc13498b2535136f6dfe0678499012e853ee9abcab1"
  },
  "kernelspec": {
   "display_name": "Python 3.10.0 64-bit",
   "language": "python",
   "name": "python3"
  },
  "language_info": {
   "codemirror_mode": {
    "name": "ipython",
    "version": 3
   },
   "file_extension": ".py",
   "mimetype": "text/x-python",
   "name": "python",
   "nbconvert_exporter": "python",
   "pygments_lexer": "ipython3",
   "version": "3.10.0"
  },
  "orig_nbformat": 4
 },
 "nbformat": 4,
 "nbformat_minor": 2
}
