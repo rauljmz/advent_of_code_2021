{
 "cells": [
  {
   "cell_type": "code",
   "execution_count": 36,
   "metadata": {},
   "outputs": [
    {
     "data": {
      "text/plain": [
       "877"
      ]
     },
     "execution_count": 36,
     "metadata": {},
     "output_type": "execute_result"
    }
   ],
   "source": [
    "from functools import reduce\n",
    "\n",
    "\n",
    "class LiteralPacket:\n",
    "    def __init__(self, input):\n",
    "        self.input = input\n",
    "        self.version = int(self.input[0:3], 2)\n",
    "        self.type = int(self.input[3:6], 2)\n",
    "        literal = \"\"\n",
    "        pos = 6\n",
    "        while self.input[pos] == '1':\n",
    "            literal += self.input[pos+1:pos+5]\n",
    "            pos += 5\n",
    "        literal += self.input[pos+1:pos+5]\n",
    "        self.value = int(literal, 2)\n",
    "        self.length = pos+5\n",
    "\n",
    "    def total_version(self):\n",
    "        return self.version\n",
    "\n",
    "    def __str__(self):\n",
    "        return f\"Literal packet with value {self.value} and version {self.version}\"\n",
    "\n",
    "\n",
    "class OperatorPacket:\n",
    "    def __init__(self, input):\n",
    "        self.subpackets = []\n",
    "        self.input = input\n",
    "        self.version = int(self.input[0:3], 2)\n",
    "        self.type = int(self.input[3:6], 2)\n",
    "        if self.input[6] == '0':\n",
    "            subpackets_length = int(self.input[7:22], 2)\n",
    "            self.length = 22 + subpackets_length\n",
    "            position = 22\n",
    "            while(position < self.length):\n",
    "                subpacket = parse_binary(input[position:])\n",
    "                self.subpackets.append(subpacket)\n",
    "                position += subpacket.length\n",
    "        else:\n",
    "            subpackets_length = int(self.input[7:18], 2)\n",
    "            position = 18\n",
    "            self.length = 18\n",
    "            for _ in range(subpackets_length):\n",
    "                left_over_input = input[position:]\n",
    "                if left_over_input.count('1') > 0: \n",
    "                    subpacket = parse_binary(left_over_input)\n",
    "                    self.subpackets.append(subpacket)\n",
    "                    position += subpacket.length\n",
    "                    self.length += subpacket.length\n",
    "                else:\n",
    "                    self.length += len(left_over_input)\n",
    "\n",
    "    def __str__(self):\n",
    "        head = f\"Operator packet version {self.version}\"\n",
    "        return \"\\n\".join([head, *[str(sub) for sub in self.subpackets]])\n",
    "\n",
    "    def total_version(self):\n",
    "        return reduce(lambda a, sb: a + sb.total_version(), self.subpackets, 0) + self.version\n",
    "\n",
    "\n",
    "def parse_hex(input):\n",
    "    binary_number = bin(int(input, 16))[2:]\n",
    "    binary_number = \"0\" * ((4 - (len(binary_number) % 4)) % 4) + binary_number\n",
    "    return parse_binary(binary_number)\n",
    "\n",
    "\n",
    "def parse_binary(input):\n",
    "    if input.count(\"1\") == 0:\n",
    "        return None\n",
    "    type = int(input[3:6], 2)\n",
    "    if type == 4:\n",
    "        return LiteralPacket(input)\n",
    "    else:\n",
    "        return OperatorPacket(input)"
   ]
  },
  {
   "cell_type": "code",
   "execution_count": 24,
   "metadata": {},
   "outputs": [
    {
     "name": "stdout",
     "output_type": "stream",
     "text": [
      "Operator packet version 1\n",
      "Literal packet with value 10 and version 6\n",
      "Literal packet with value 20 and version 2\n"
     ]
    }
   ],
   "source": [
    "p = parse_hex(\"38006F45291200\")\n",
    "assert len(p.subpackets) == 2\n",
    "assert list(map(lambda sp: sp.value, p.subpackets)) == [10,20]\n",
    "print(p)"
   ]
  },
  {
   "cell_type": "code",
   "execution_count": 25,
   "metadata": {},
   "outputs": [
    {
     "name": "stdout",
     "output_type": "stream",
     "text": [
      "Operator packet version 7\n",
      "Literal packet with value 1 and version 2\n",
      "Literal packet with value 2 and version 4\n",
      "Literal packet with value 3 and version 1\n"
     ]
    }
   ],
   "source": [
    "p = parse_hex(\"EE00D40C823060\")\n",
    "assert len(p.subpackets) == 3\n",
    "assert list(map(lambda sp: sp.value, p.subpackets)) == [1,2,3]\n",
    "assert p.version == 7\n",
    "print(p)"
   ]
  },
  {
   "cell_type": "code",
   "execution_count": 26,
   "metadata": {},
   "outputs": [
    {
     "name": "stdout",
     "output_type": "stream",
     "text": [
      "Literal packet with value 2021 and version 6\n"
     ]
    }
   ],
   "source": [
    "p = parse_hex(\"D2FE28\")\n",
    "assert p.value == 2021\n",
    "assert p.length == 21\n",
    "print(p)"
   ]
  },
  {
   "cell_type": "code",
   "execution_count": 27,
   "metadata": {},
   "outputs": [
    {
     "name": "stdout",
     "output_type": "stream",
     "text": [
      "Operator packet version 4\n",
      "Operator packet version 1\n",
      "Operator packet version 5\n",
      "Literal packet with value 15 and version 6\n",
      "16\n"
     ]
    }
   ],
   "source": [
    "p = parse_hex(\"8A004A801A8002F478\")\n",
    "print(p)\n",
    "print(p.total_version())\n",
    "assert p.total_version() == 16"
   ]
  },
  {
   "cell_type": "code",
   "execution_count": 28,
   "metadata": {},
   "outputs": [
    {
     "name": "stdout",
     "output_type": "stream",
     "text": [
      "Operator packet version 5\n",
      "Operator packet version 1\n",
      "Operator packet version 3\n",
      "Literal packet with value 6 and version 7\n",
      "Literal packet with value 6 and version 6\n",
      "Literal packet with value 12 and version 5\n",
      "Literal packet with value 15 and version 2\n",
      "Literal packet with value 15 and version 2\n"
     ]
    }
   ],
   "source": [
    "p = parse_hex(\"A0016C880162017C3686B18A3D4780\")\n",
    "print(p)\n",
    "assert p.total_version() == 31"
   ]
  },
  {
   "cell_type": "code",
   "execution_count": 29,
   "metadata": {},
   "outputs": [
    {
     "name": "stdout",
     "output_type": "stream",
     "text": [
      "Operator packet version 6\n",
      "Operator packet version 0\n",
      "Literal packet with value 10 and version 0\n",
      "Literal packet with value 11 and version 6\n",
      "Operator packet version 4\n",
      "Literal packet with value 12 and version 7\n",
      "Literal packet with value 13 and version 0\n"
     ]
    }
   ],
   "source": [
    "p = parse_hex(\"C0015000016115A2E0802F182340\")\n",
    "print(p)\n",
    "assert p.total_version() == 23"
   ]
  },
  {
   "cell_type": "code",
   "execution_count": 30,
   "metadata": {},
   "outputs": [],
   "source": [
    "input = \"60552F100693298A9EF0039D24B129BA56D67282E600A4B5857002439CE580E5E5AEF67803600D2E294B2FCE8AC489BAEF37FEACB31A678548034EA0086253B183F4F6BDDE864B13CBCFBC4C10066508E3F4B4B9965300470026E92DC2960691F7F3AB32CBE834C01A9B7A933E9D241003A520DF316647002E57C1331DFCE16A249802DA009CAD2117993CD2A253B33C8BA00277180390F60E45D30062354598AA4008641A8710FCC01492FB75004850EE5210ACEF68DE2A327B12500327D848028ED0046661A209986896041802DA0098002131621842300043E3C4168B12BCB6835C00B6033F480C493003C40080029F1400B70039808AC30024C009500208064C601674804E870025003AA400BED8024900066272D7A7F56A8FB0044B272B7C0E6F2392E3460094FAA5002512957B98717004A4779DAECC7E9188AB008B93B7B86CB5E47B2B48D7CAD3328FB76B40465243C8018F49CA561C979C182723D769642200412756271FC80460A00CC0401D8211A2270803D10A1645B947B3004A4BA55801494BC330A5BB6E28CCE60BE6012CB2A4A854A13CD34880572523898C7EDE1A9FA7EED53F1F38CD418080461B00440010A845152360803F0FA38C7798413005E4FB102D004E6492649CC017F004A448A44826AB9BFAB5E0AA8053306B0CE4D324BB2149ADDA2904028600021909E0AC7F0004221FC36826200FC3C8EB10940109DED1960CCE9A1008C731CB4FD0B8BD004872BC8C3A432BC8C3A4240231CF1C78028200F41485F100001098EB1F234900505224328612AF33A97367EA00CC4585F315073004E4C2B003530004363847889E200C45985F140C010A005565FD3F06C249F9E3BC8280804B234CA3C962E1F1C64ADED77D10C3002669A0C0109FB47D9EC58BC01391873141197DCBCEA401E2CE80D0052331E95F373798F4AF9B998802D3B64C9AB6617080\""
   ]
  },
  {
   "cell_type": "code",
   "execution_count": 37,
   "metadata": {},
   "outputs": [
    {
     "data": {
      "text/plain": [
       "877"
      ]
     },
     "execution_count": 37,
     "metadata": {},
     "output_type": "execute_result"
    }
   ],
   "source": [
    "p = parse_hex(input)\n",
    "p.total_version()"
   ]
  }
 ],
 "metadata": {
  "interpreter": {
   "hash": "949777d72b0d2535278d3dc13498b2535136f6dfe0678499012e853ee9abcab1"
  },
  "kernelspec": {
   "display_name": "Python 3.10.0 64-bit",
   "language": "python",
   "name": "python3"
  },
  "language_info": {
   "codemirror_mode": {
    "name": "ipython",
    "version": 3
   },
   "file_extension": ".py",
   "mimetype": "text/x-python",
   "name": "python",
   "nbconvert_exporter": "python",
   "pygments_lexer": "ipython3",
   "version": "3.10.0"
  },
  "orig_nbformat": 4
 },
 "nbformat": 4,
 "nbformat_minor": 2
}
