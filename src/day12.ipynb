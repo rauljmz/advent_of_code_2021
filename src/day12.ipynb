{
 "cells": [
  {
   "cell_type": "code",
   "execution_count": 135,
   "metadata": {},
   "outputs": [],
   "source": [
    "class Graph:\n",
    "    def __init__(self) -> None:\n",
    "        self.nodes ={}\n",
    "    @staticmethod\n",
    "    def load_from_file(path):\n",
    "        g = Graph()\n",
    "        with open(path) as file:\n",
    "            line = file.readline()\n",
    "            while line != \"\":\n",
    "                node_start, node_end = line.strip().split(\"-\")\n",
    "                g.add_path(node_start, node_end)\n",
    "                line = file.readline()\n",
    "        return g\n",
    "\n",
    "    def get_node_or_create(self, node):\n",
    "        if not node in self.nodes:\n",
    "            self.nodes[node] = []\n",
    "        return self.nodes.get(node)\n",
    "\n",
    "    def add_path(self, node_start, node_end):\n",
    "        self.get_node_or_create(node_start).append(node_end)\n",
    "        self.get_node_or_create(node_end).append(node_start)\n",
    "    \n",
    "    def create_paths_between_nodes(self, node_start, node_end):\n",
    "        self.walks = []\n",
    "        self.visit_nodes(self.walks, [node_start], node_end, self.get_node_or_create(node_start))\n",
    "        return self.walks   \n",
    "    \n",
    "    def count_paths_between_nodes(self, node_start, node_end):\n",
    "        return len(self.create_paths_between_nodes(node_start, node_end))\n",
    "\n",
    "    def visit_nodes(self, walks, visited, node_end, nodes):\n",
    "        for node in nodes:\n",
    "            if node == node_end:\n",
    "                walks.append([*visited, node])\n",
    "                continue\n",
    "            if node.isupper() or not node in visited:\n",
    "                self.visit_nodes(\n",
    "                    walks, \n",
    "                    [*visited, node], \n",
    "                    node_end, \n",
    "                    self.get_node_or_create(node)\n",
    "                    )"
   ]
  },
  {
   "cell_type": "code",
   "execution_count": 136,
   "metadata": {},
   "outputs": [
    {
     "data": {
      "text/plain": [
       "10"
      ]
     },
     "execution_count": 136,
     "metadata": {},
     "output_type": "execute_result"
    }
   ],
   "source": [
    "test_file_path = \"../data/day12/test.txt\"\n",
    "\n",
    "graph = Graph.load_from_file(test_file_path)\n",
    "graph.count_paths_between_nodes('start','end')"
   ]
  },
  {
   "cell_type": "code",
   "execution_count": 137,
   "metadata": {},
   "outputs": [
    {
     "data": {
      "text/plain": [
       "19"
      ]
     },
     "execution_count": 137,
     "metadata": {},
     "output_type": "execute_result"
    }
   ],
   "source": [
    "test_file_path = \"../data/day12/test2.txt\"\n",
    "\n",
    "graph = Graph.load_from_file(test_file_path)\n",
    "graph.count_paths_between_nodes('start','end')"
   ]
  },
  {
   "cell_type": "code",
   "execution_count": 138,
   "metadata": {},
   "outputs": [
    {
     "data": {
      "text/plain": [
       "226"
      ]
     },
     "execution_count": 138,
     "metadata": {},
     "output_type": "execute_result"
    }
   ],
   "source": [
    "test_file_path = \"../data/day12/test3.txt\"\n",
    "\n",
    "graph = Graph.load_from_file(test_file_path)\n",
    "graph.count_paths_between_nodes('start', 'end')"
   ]
  },
  {
   "cell_type": "code",
   "execution_count": 139,
   "metadata": {},
   "outputs": [
    {
     "data": {
      "text/plain": [
       "5756"
      ]
     },
     "execution_count": 139,
     "metadata": {},
     "output_type": "execute_result"
    }
   ],
   "source": [
    "test_file_path = \"../data/day12/input.txt\"\n",
    "\n",
    "graph = Graph.load_from_file(test_file_path)\n",
    "graph.count_paths_between_nodes('start', 'end')"
   ]
  }
 ],
 "metadata": {
  "interpreter": {
   "hash": "994015aa37e188b082256ac97b6c35a2c818d0178308bf3635444b4e5b6805ee"
  },
  "kernelspec": {
   "display_name": "Python 3.10.0 64-bit",
   "language": "python",
   "name": "python3"
  },
  "language_info": {
   "codemirror_mode": {
    "name": "ipython",
    "version": 3
   },
   "file_extension": ".py",
   "mimetype": "text/x-python",
   "name": "python",
   "nbconvert_exporter": "python",
   "pygments_lexer": "ipython3",
   "version": "3.10.0"
  },
  "orig_nbformat": 4
 },
 "nbformat": 4,
 "nbformat_minor": 2
}
