{
 "cells": [
  {
   "cell_type": "code",
   "execution_count": 173,
   "metadata": {},
   "outputs": [],
   "source": [
    "class Graph:\n",
    "    def __init__(self) -> None:\n",
    "        self.nodes = {}\n",
    "\n",
    "    @staticmethod\n",
    "    def load_from_file(path):\n",
    "        g = Graph()\n",
    "        with open(path) as file:\n",
    "            line = file.readline()\n",
    "            while line != \"\":\n",
    "                node_start, node_end = line.strip().split(\"-\")\n",
    "                g.add_path(node_start, node_end)\n",
    "                line = file.readline()\n",
    "        return g\n",
    "\n",
    "    def get_node_or_create(self, node):\n",
    "        if not node in self.nodes:\n",
    "            self.nodes[node] = []\n",
    "        return self.nodes.get(node)\n",
    "\n",
    "    def add_path(self, node_start, node_end):\n",
    "        self.get_node_or_create(node_start).append(node_end)\n",
    "        self.get_node_or_create(node_end).append(node_start)\n",
    "\n",
    "\n",
    "class GraphWalker:\n",
    "    def __init__(self, valid_node_to_visit) -> None:\n",
    "        self.valid_node_to_visit = valid_node_to_visit\n",
    "\n",
    "    def create_paths_between_nodes(self, graph, node_start, node_end):\n",
    "        self.walks = []\n",
    "        self._get_nodes = graph.get_node_or_create\n",
    "        self._visit_nodes(\n",
    "            [node_start],\n",
    "            node_end,\n",
    "            self._get_nodes(node_start),\n",
    "        )\n",
    "        return self.walks\n",
    "\n",
    "    def count_paths_between_nodes(self, graph, node_start, node_end):\n",
    "        return len(self.create_paths_between_nodes(graph, node_start, node_end))\n",
    "\n",
    "    def _visit_nodes(self, visited, node_end, nodes):\n",
    "        for node in nodes:\n",
    "            if node == node_end:\n",
    "                self.walks.append([*visited, node])\n",
    "                continue\n",
    "            if self.valid_node_to_visit(node, visited):\n",
    "                self._visit_nodes(\n",
    "                    [*visited, node],\n",
    "                    node_end,\n",
    "                    self._get_nodes(node)\n",
    "                )\n",
    "\n",
    "\n",
    "def repeat_only_upper_nodes(node, visited):\n",
    "    return node.isupper() or node not in visited\n"
   ]
  },
  {
   "cell_type": "code",
   "execution_count": 174,
   "metadata": {},
   "outputs": [
    {
     "name": "stdout",
     "output_type": "stream",
     "text": [
      "../data/day12/test.txt 10\n",
      "../data/day12/test2.txt 19\n",
      "../data/day12/test3.txt 226\n",
      "../data/day12/input.txt 5756\n"
     ]
    }
   ],
   "source": [
    "walk = GraphWalker(repeat_only_upper_nodes)\n",
    "for file_name in ['test', 'test2', 'test3', 'input']:\n",
    "    test_file_path = f\"../data/day12/{file_name}.txt\"\n",
    "    graph = Graph.load_from_file(test_file_path)\n",
    "    print(test_file_path, walk.count_paths_between_nodes(graph,'start','end'))"
   ]
  }
 ],
 "metadata": {
  "interpreter": {
   "hash": "994015aa37e188b082256ac97b6c35a2c818d0178308bf3635444b4e5b6805ee"
  },
  "kernelspec": {
   "display_name": "Python 3.10.0 64-bit",
   "language": "python",
   "name": "python3"
  },
  "language_info": {
   "codemirror_mode": {
    "name": "ipython",
    "version": 3
   },
   "file_extension": ".py",
   "mimetype": "text/x-python",
   "name": "python",
   "nbconvert_exporter": "python",
   "pygments_lexer": "ipython3",
   "version": "3.10.0"
  },
  "orig_nbformat": 4
 },
 "nbformat": 4,
 "nbformat_minor": 2
}
