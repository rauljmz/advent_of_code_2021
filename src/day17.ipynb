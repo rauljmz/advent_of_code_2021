{
 "cells": [
  {
   "cell_type": "code",
   "execution_count": 107,
   "metadata": {},
   "outputs": [],
   "source": [
    "class Velocity:\n",
    "    def __init__(self, x, y) -> None:\n",
    "        self.x = x\n",
    "        self.y = y\n",
    "    def move(self):\n",
    "        if self.x < 0:\n",
    "            self.x += 1\n",
    "        elif self.x > 0:\n",
    "            self.x -= 1\n",
    "        self.y -= 1\n",
    "    def __str__(self):\n",
    "        return f\"Velocity ({self.x},{self.y})\"\n",
    "\n",
    "    def copy(self):\n",
    "        return Velocity(self.x, self.y)\n",
    "\n",
    "class Position:\n",
    "    def __init__(self, x, y):\n",
    "        self.x = x\n",
    "        self.y = y\n",
    "    \n",
    "    def move(self, velocity: Velocity):\n",
    "        nextPosition = Position(\n",
    "            self.x + velocity.x,\n",
    "            self.y + velocity.y,\n",
    "        )\n",
    "        velocity.move()\n",
    "        return nextPosition\n",
    "    \n",
    "    def copy(self):\n",
    "        return Position(self.x, self.y)\n",
    "\n",
    "    def __le__(self, other):\n",
    "        return self.x <= other.x and self.y >= other.y\n",
    "    \n",
    "    def __ge__(self, other):\n",
    "        return self.x >= other.x and self.y <= other.y\n",
    "\n",
    "    def __str__(self):\n",
    "        return f\"({self.x},{self.y})\"\n",
    "\n",
    "class Trajectory:\n",
    "    def __init__(self, position, velocity, target):\n",
    "        self.initial_velocity = velocity.copy()\n",
    "        self.initial_position = position.copy()\n",
    "        self.last_position = position.copy()\n",
    "        self.positions = [position]\n",
    "        self.max_height = self.last_position.y\n",
    "        self.hit = False\n",
    "        while self.last_position <= target[1]:\n",
    "            if self.last_position >= target[0]:\n",
    "                self.hit = True\n",
    "                break\n",
    "            self.last_position = self.last_position.move(self.initial_velocity)\n",
    "            self.positions.append(self.last_position)\n",
    "            self.max_height = max(self.max_height, self.last_position.y)\n",
    "           \n",
    "\n",
    "    def get_max_height(self):\n",
    "        return self.max_height\n",
    "\n",
    "    def target_hit(self):\n",
    "        return self.hit\n",
    "\n",
    "    def __str__(self):\n",
    "        x = \"Hit\" if self.target_hit() else \"No hit\"\n",
    "        return f\"{x} - Max height {self.get_max_height()} \" + \" - \".join(map(str,self.positions))    "
   ]
  },
  {
   "cell_type": "code",
   "execution_count": 172,
   "metadata": {},
   "outputs": [],
   "source": [
    "position = Position(0, 0)"
   ]
  },
  {
   "cell_type": "markdown",
   "metadata": {},
   "source": [
    "Max height in all the possible trajectories"
   ]
  },
  {
   "cell_type": "code",
   "execution_count": 183,
   "metadata": {},
   "outputs": [
    {
     "name": "stdout",
     "output_type": "stream",
     "text": [
      "Max possible height of: 5050\n",
      "Number of velocities hitting target: 2223\n"
     ]
    }
   ],
   "source": [
    "test_area = (\n",
    "    Position(20, -5),\n",
    "    Position(30, -10)\n",
    ")\n",
    "area = ( \n",
    "    Position(257, -57),\n",
    "    Position(286, -101)\n",
    ")\n",
    "max_x = int(area[1].x)+1\n",
    "max_y = abs(area[1].y)\n",
    "\n",
    "trajectories = [\n",
    "    Trajectory(position, Velocity(x,y), area) for x in range(max_x) for y in range(-max_y,max_y)\n",
    "]\n",
    "hits = tuple(filter(lambda t: t.target_hit(), trajectories))\n",
    "max_height = max(map(lambda t: t.get_max_height(), hits))\n",
    "possible_velocities = len(hits)\n",
    "print(f\"Max possible height of: {max_height}\")\n",
    "print(f\"Number of velocities hitting target: {possible_velocities}\")"
   ]
  }
 ],
 "metadata": {
  "interpreter": {
   "hash": "994015aa37e188b082256ac97b6c35a2c818d0178308bf3635444b4e5b6805ee"
  },
  "kernelspec": {
   "display_name": "Python 3.10.0 64-bit",
   "language": "python",
   "name": "python3"
  },
  "language_info": {
   "codemirror_mode": {
    "name": "ipython",
    "version": 3
   },
   "file_extension": ".py",
   "mimetype": "text/x-python",
   "name": "python",
   "nbconvert_exporter": "python",
   "pygments_lexer": "ipython3",
   "version": "3.10.0"
  },
  "orig_nbformat": 4
 },
 "nbformat": 4,
 "nbformat_minor": 2
}
