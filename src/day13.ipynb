{
 "cells": [
  {
   "cell_type": "code",
   "execution_count": 387,
   "metadata": {},
   "outputs": [],
   "source": [
    "import numpy as np"
   ]
  },
  {
   "cell_type": "code",
   "execution_count": 388,
   "metadata": {},
   "outputs": [],
   "source": [
    "test_file_path = \"../data/day13/input.txt\"\n",
    "\n",
    "dots = []\n",
    "instructions = []\n",
    "with open(test_file_path) as file:\n",
    "  for line in file:\n",
    "    stripped_line = line.strip()\n",
    "    if not stripped_line:\n",
    "      continue\n",
    "    if stripped_line.startswith(\"fold\"):\n",
    "      instructions.append(stripped_line.split(\" \")[2])\n",
    "    else:\n",
    "      dot = stripped_line.split(\",\")\n",
    "      dots.append(dot)\n"
   ]
  },
  {
   "cell_type": "code",
   "execution_count": 414,
   "metadata": {},
   "outputs": [],
   "source": [
    "dots_array = np.array(dots,dtype='uint16')\n",
    "dimensions = tuple((dots_array.max(axis=0) + 1))[::-1]\n",
    "boolean_array = np.zeros(dimensions,dtype=np.bool_)\n",
    "boolean_array[dots_array[:,1], dots_array[:,0]] = True"
   ]
  },
  {
   "cell_type": "code",
   "execution_count": 415,
   "metadata": {},
   "outputs": [],
   "source": [
    "def fold(a, instruction):\n",
    "  split_instruction = instruction.split(\"=\")\n",
    "  axis = 0 if split_instruction[0] == \"y\" else 1\n",
    "  count = int(split_instruction[1])\n",
    "  cut = np.arange(2) + count\n",
    "  [a,_,b] = np.split(boolean_array,cut,axis=axis)\n",
    "  b = np.flip(b, axis=axis)\n",
    "  return a | b\n",
    "  "
   ]
  },
  {
   "cell_type": "code",
   "execution_count": 416,
   "metadata": {},
   "outputs": [
    {
     "data": {
      "text/plain": [
       "'647 after the first fold'"
      ]
     },
     "execution_count": 416,
     "metadata": {},
     "output_type": "execute_result"
    }
   ],
   "source": [
    "f\"{np.count_nonzero(fold(boolean_array, instructions[0]))} after the first fold\""
   ]
  },
  {
   "cell_type": "code",
   "execution_count": 417,
   "metadata": {},
   "outputs": [],
   "source": [
    "for instruction in instructions:\n",
    "  boolean_array = fold(boolean_array,instruction)"
   ]
  },
  {
   "cell_type": "code",
   "execution_count": 418,
   "metadata": {},
   "outputs": [],
   "source": [
    "chars = np.empty(boolean_array.shape,dtype=np.str_)\n",
    "chars.fill(\".\")\n",
    "chars[boolean_array] = \"#\""
   ]
  },
  {
   "cell_type": "code",
   "execution_count": 419,
   "metadata": {},
   "outputs": [
    {
     "name": "stdout",
     "output_type": "stream",
     "text": [
      "#..#.####...##.#..#...##.###...##....##.\n",
      "#..#.#.......#.#..#....#.#..#.#..#....#.\n",
      "####.###.....#.####....#.#..#.#.......#.\n",
      "#..#.#.......#.#..#....#.###..#.......#.\n",
      "#..#.#....#..#.#..#.#..#.#.#..#..#.#..#.\n",
      "#..#.####..##..#..#..##..#..#..##...##..\n"
     ]
    }
   ],
   "source": [
    "for line in chars:\n",
    "  print(\"\".join(line))"
   ]
  }
 ],
 "metadata": {
  "interpreter": {
   "hash": "949777d72b0d2535278d3dc13498b2535136f6dfe0678499012e853ee9abcab1"
  },
  "kernelspec": {
   "display_name": "Python 3.10.0 64-bit",
   "language": "python",
   "name": "python3"
  },
  "language_info": {
   "codemirror_mode": {
    "name": "ipython",
    "version": 3
   },
   "file_extension": ".py",
   "mimetype": "text/x-python",
   "name": "python",
   "nbconvert_exporter": "python",
   "pygments_lexer": "ipython3",
   "version": "3.10.0"
  },
  "orig_nbformat": 4
 },
 "nbformat": 4,
 "nbformat_minor": 2
}
