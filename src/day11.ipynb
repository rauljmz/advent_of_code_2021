{
 "cells": [
  {
   "cell_type": "code",
   "execution_count": 144,
   "metadata": {},
   "outputs": [],
   "source": [
    "import numpy as np\n",
    "\n",
    "test_file_path = \"../data/day11/input.txt\"\n",
    "\n",
    "def load_data(file_path):\n",
    "    with open(file_path) as file:\n",
    "        size = len(file.readline().strip())\n",
    "    return np.genfromtxt(file_path, delimiter=np.ones(size, dtype='int8'),dtype='int8')"
   ]
  },
  {
   "cell_type": "code",
   "execution_count": 21,
   "metadata": {},
   "outputs": [],
   "source": [
    "def neighbours(array, start):\n",
    "    index_inc = np.array([[0,1],[0,-1],[1,0],[-1,0],[-1,-1],[1,1],[-1,1],[1,-1]])\n",
    "    positions = start + index_inc\n",
    "    positions = positions[((positions >= (0,0)) & (positions < array.shape)).all(axis=1)]\n",
    "    return (positions[:,0], positions[:,1])\n"
   ]
  },
  {
   "cell_type": "code",
   "execution_count": 140,
   "metadata": {},
   "outputs": [],
   "source": [
    "def step(array):\n",
    "    array+= 1\n",
    "    total_flashes = 0\n",
    "    flashes = np.count_nonzero(array >=  10)\n",
    "    while flashes > 0:\n",
    "        total_flashes += flashes\n",
    "        flashed_indexes = np.where((array >= 10) & (array < 64))\n",
    "        array[(array >= 10) & (array < 64) ] = 64\n",
    "        for i in range(len(flashed_indexes[0])):\n",
    "            index = (flashed_indexes[0][i],\n",
    "                            flashed_indexes[1][i])\n",
    "            array[neighbours(array, index)] += 1\n",
    "        flashes = np.count_nonzero((array >= 10) & (array < 64))\n",
    "    array[array >= 10] = 0\n",
    "    return total_flashes\n"
   ]
  },
  {
   "cell_type": "code",
   "execution_count": 145,
   "metadata": {},
   "outputs": [
    {
     "data": {
      "text/plain": [
       "1717"
      ]
     },
     "execution_count": 145,
     "metadata": {},
     "output_type": "execute_result"
    }
   ],
   "source": [
    "array = load_data(test_file_path)\n",
    "np.array([step(array) for _ in range(100)]).sum()"
   ]
  }
 ],
 "metadata": {
  "interpreter": {
   "hash": "994015aa37e188b082256ac97b6c35a2c818d0178308bf3635444b4e5b6805ee"
  },
  "kernelspec": {
   "display_name": "Python 3.10.0 64-bit",
   "language": "python",
   "name": "python3"
  },
  "language_info": {
   "codemirror_mode": {
    "name": "ipython",
    "version": 3
   },
   "file_extension": ".py",
   "mimetype": "text/x-python",
   "name": "python",
   "nbconvert_exporter": "python",
   "pygments_lexer": "ipython3",
   "version": "3.10.0"
  },
  "orig_nbformat": 4
 },
 "nbformat": 4,
 "nbformat_minor": 2
}
